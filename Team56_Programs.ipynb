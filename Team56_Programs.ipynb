{
  "nbformat": 4,
  "nbformat_minor": 0,
  "metadata": {
    "colab": {
      "provenance": [],
      "collapsed_sections": [
        "Ian9Oc401RhS"
      ]
    },
    "kernelspec": {
      "name": "python3",
      "display_name": "Python 3"
    },
    "language_info": {
      "name": "python"
    }
  },
  "cells": [
    {
      "cell_type": "markdown",
      "source": [
        "# Adhikari Dataset Conversion"
      ],
      "metadata": {
        "id": "Ian9Oc401RhS"
      }
    },
    {
      "cell_type": "markdown",
      "source": [
        "This program edits the dataset for the Adhikari Fall Detection Dataset"
      ],
      "metadata": {
        "id": "Dcljk49GOuPC"
      }
    },
    {
      "cell_type": "code",
      "execution_count": null,
      "metadata": {
        "colab": {
          "base_uri": "https://localhost:8080/"
        },
        "id": "-vhknPOrD01m",
        "outputId": "b0d0caa0-e485-4aa1-d0b0-48f9d9884a60"
      },
      "outputs": [
        {
          "output_type": "stream",
          "name": "stdout",
          "text": [
            "Mounted at /content/drive\n"
          ]
        }
      ],
      "source": [
        "# google drive related\n",
        "from google.colab import drive\n",
        "drive.mount('/content/drive')\n",
        "import pandas as pd\n",
        "\n",
        "# csv related\n",
        "from google.colab import files"
      ]
    },
    {
      "cell_type": "markdown",
      "source": [
        "------------------------------------------------------\n",
        "Code below related to google drive"
      ],
      "metadata": {
        "id": "7XCDaOiJEZRT"
      }
    },
    {
      "cell_type": "code",
      "source": [
        "# Only need to edit the 'dataset' path\n",
        "shared_directory = '/content/drive/Shareddrives/Team56_FallDetection'     # Shared drive path\n",
        "dataset_directory = 'AdhikariSet/1301'                                    # Edit the dataset path\n",
        "full_directory = shared_directory + '/' +  dataset_directory\n",
        "full_path = full_directory + '/labels.csv'   # string Full path\n"
      ],
      "metadata": {
        "id": "4fkMshDOEfIL"
      },
      "execution_count": null,
      "outputs": []
    },
    {
      "cell_type": "markdown",
      "source": [
        "--------------------------\n",
        "Accessing CSV\n",
        "\n",
        "```\n",
        "**Adhikari Labels**\n",
        "0 = Empty\n",
        "1 = Standing\n",
        "2 = Sitting\n",
        "3 = Lying/Fall\n",
        "4 = Bending\n",
        "5 = Crawling\n",
        "6 = Empty?\n",
        "```\n",
        "\n",
        "```\n",
        "**Dataset Label Conversion**\n",
        "          Fall (1)  = 3\n",
        "Temporary Pose (0)  = 4 5\n",
        "      Not Fall (-1) = 0 1 2 6\n",
        "```"
      ],
      "metadata": {
        "id": "-QcSkGSaNvKv"
      }
    },
    {
      "cell_type": "code",
      "source": [
        "# Read path, create dataframe object\n",
        "df = pd.read_csv(full_path)\n",
        "\n",
        "# replace original label with temporary value\n",
        "df.loc[df['class'] == 0, 'class'] = 'not'\n",
        "df.loc[df['class'] == 1, 'class'] = 'not'\n",
        "df.loc[df['class'] == 2, 'class'] = 'not'\n",
        "df.loc[df['class'] == 3, 'class'] = 'fall'\n",
        "df.loc[df['class'] == 4, 'class'] = 'temporary'\n",
        "df.loc[df['class'] == 5, 'class'] = 'temporary'\n",
        "df.loc[df['class'] == 6, 'class'] = 'not'\n",
        "\n",
        "# replace with numerical value\n",
        "df.loc[df['class'] == 'not', 'class'] = -1\n",
        "df.loc[df['class'] == 'temporary', 'class'] = 0\n",
        "df.loc[df['class'] == 'fall', 'class'] = 1\n",
        "\n",
        "temp_path = full_directory + '/test.csv'\n",
        "df.to_csv(temp_path)"
      ],
      "metadata": {
        "id": "5cU1cnVPNvR6"
      },
      "execution_count": null,
      "outputs": []
    },
    {
      "cell_type": "markdown",
      "source": [
        "# Images to MP4"
      ],
      "metadata": {
        "id": "cZzdfVuo1euN"
      }
    },
    {
      "cell_type": "markdown",
      "source": [
        "Libraries"
      ],
      "metadata": {
        "id": "uR4KkHdSEP51"
      }
    },
    {
      "cell_type": "code",
      "source": [
        "# images to mp4\n",
        "import os\n",
        "import cv2\n",
        "from PIL import Image\n",
        "\n",
        "# connect to drive\n",
        "from google.colab import drive\n",
        "drive.mount('/content/drive')\n",
        "\n",
        "# resize images\n",
        "import os.path\n",
        "from os import path"
      ],
      "metadata": {
        "id": "3RRX2kJm1nH1",
        "colab": {
          "base_uri": "https://localhost:8080/"
        },
        "outputId": "f7d862fd-966c-4405-a41c-8030e6cc8ad4"
      },
      "execution_count": null,
      "outputs": [
        {
          "output_type": "stream",
          "name": "stdout",
          "text": [
            "Drive already mounted at /content/drive; to attempt to forcibly remount, call drive.mount(\"/content/drive\", force_remount=True).\n"
          ]
        }
      ]
    },
    {
      "cell_type": "markdown",
      "source": [
        "---\n",
        "Variable List (exclude temporaries) <br><br>\n",
        "\n",
        "\n",
        "Path to directory\n",
        "*   full_path\n",
        "<br><br>\n",
        "\n",
        "Set Video Size\n",
        "*   list1\n",
        "*   num_images\n",
        "*   mean_width\n",
        "*   mean_height\n",
        "<br><br>\n",
        "\n",
        "Resize Images\n",
        "*   resize_path\n",
        "<br><br>\n",
        "\n",
        "Video Generation\n",
        "*   output_path\n",
        "*   video_name\n",
        "*   images\n",
        "*   video\n",
        "<br><br>"
      ],
      "metadata": {
        "id": "wS5H2PnSyxwx"
      }
    },
    {
      "cell_type": "markdown",
      "source": [
        "\n",
        "\n",
        "---\n",
        "\n",
        "Path to directory"
      ],
      "metadata": {
        "id": "BGWevntbEpR0"
      }
    },
    {
      "cell_type": "code",
      "source": [
        "# Edit location of images\n",
        "#image_directory = 'fall-01-cam0-rgb-20221014T162818Z-001/fall-01-cam0-rgb/fall-01-cam0-rgb'                                    # Edit the dataset path\n",
        "\n",
        "# Do not edit\n",
        "#shared_directory = '/content/drive/Shareddrives/Team56_FallDetection'     # Shared drive path\n",
        "#full_path = shared_directory + '/' +  image_directory\n",
        "\n",
        "full_path = \"/content/drive/Shareddrives/Team56_FallDetection/fall-01-cam0-rgb-20221014T162818Z-001/fall-01-cam0-rgb/fall-02-cam0-rgb_labelled\""
      ],
      "metadata": {
        "id": "qqrPLQv5EOmy"
      },
      "execution_count": null,
      "outputs": []
    },
    {
      "cell_type": "markdown",
      "source": [
        "---\n",
        "Set Video Size from average image size"
      ],
      "metadata": {
        "id": "lj6RU7FdHE3e"
      }
    },
    {
      "cell_type": "code",
      "source": [
        "# make list of all files in directory\n",
        "list1=os.listdir(full_path)\n",
        "list1.sort()\n",
        "\n",
        "\n",
        "# get number of images in directory\n",
        "num_images = len(list1)\n",
        "print(num_images)\n",
        "\n",
        "\n",
        "# get average size of all images in list\n",
        "mean_width = 0\n",
        "mean_height = 0\n",
        "\n",
        "for file in list1:\n",
        "  #print(file)\n",
        "  im = Image.open(os.path.join(full_path, file))\n",
        "  width, height = im.size\n",
        "  mean_width += width\n",
        "  mean_height += height\n",
        "  im.show()\n",
        "\n",
        "mean_width = int(mean_width / num_images)\n",
        "mean_height = int(mean_height / num_images)\n",
        "print(mean_width, mean_height)"
      ],
      "metadata": {
        "colab": {
          "base_uri": "https://localhost:8080/"
        },
        "id": "WyiqDP8ZH1ho",
        "outputId": "d124cfc3-1e13-4fcb-8396-328b45eac156"
      },
      "execution_count": null,
      "outputs": [
        {
          "output_type": "stream",
          "name": "stdout",
          "text": [
            "108\n",
            "640 480\n"
          ]
        }
      ]
    },
    {
      "cell_type": "markdown",
      "source": [
        "---\n",
        "Resize images to fit video"
      ],
      "metadata": {
        "id": "O0XvHkbdOdnU"
      }
    },
    {
      "cell_type": "code",
      "source": [
        "# makes directory for the resized images\n",
        "resize_path = '/content/resized_images'\n",
        "if not path.isdir(resize_path):\n",
        "  print(\"Creating new directory\")\n",
        "  os.mkdir(resize_path)\n",
        "else:\n",
        "  print(\"Removing old content in directory\")\n",
        "  for f in os.listdir(resize_path):\n",
        "    os.remove(os.path.join(resize_path, f))\n",
        "\n",
        "\n",
        "\n",
        "# resize images\n",
        "for file in list1:\n",
        "  # get current size of image\n",
        "  im = Image.open(os.path.join(full_path, file))\n",
        "  width, height = im.size\n",
        "  #print(width, height)\n",
        "\n",
        "  # resize\n",
        "  imResize = im.resize((mean_width, mean_height), Image.ANTIALIAS)\n",
        "\n",
        "  resize_filename = resize_path + \"/resize_\" + file\n",
        "  imResize.save(resize_filename, 'JPEG', quality = 95)\n",
        "  #print(im.filename.split('\\\\')[-1], \" is resized\")\n",
        "\n",
        "print(\"Success\")"
      ],
      "metadata": {
        "colab": {
          "base_uri": "https://localhost:8080/"
        },
        "id": "buAKoxfy2PSw",
        "outputId": "fa171718-a8fb-4f15-8b5a-ae97bb5b139c"
      },
      "execution_count": null,
      "outputs": [
        {
          "output_type": "stream",
          "name": "stdout",
          "text": [
            "Removing old content in directory\n",
            "Success\n"
          ]
        }
      ]
    },
    {
      "cell_type": "markdown",
      "source": [
        "---\n",
        "Video Generation"
      ],
      "metadata": {
        "id": "DVUBP8os8joy"
      }
    },
    {
      "cell_type": "code",
      "source": [
        "# creates directory for output video\n",
        "output_path = '/content/output_videos'\n",
        "if not path.isdir(output_path):\n",
        "  print(\"Creating new directory\")\n",
        "  os.mkdir(output_path)\n",
        "\n",
        "\n",
        "# video name\n",
        "video_name = path.basename(full_path) + \".avi\"\n",
        "#print(video_name)\n",
        "\n",
        "# get image list\n",
        "images = os.listdir(resize_path)\n",
        "images.sort()\n",
        "#print(images)\n",
        "\n",
        "\n",
        "# set frame settings to first image\n",
        "print(\"creating video\")\n",
        "frame = cv2.imread(os.path.join(resize_path, images[0]))\n",
        "height, width, layers = frame.shape\n",
        "save_location = output_path + '/' + video_name\n",
        "video = cv2.VideoWriter(save_location, 0, 30, (width, height))\n",
        "if path.isfile(save_location):\n",
        "  print(\"video created\")\n",
        "\n",
        "# append images\n",
        "for image in images:\n",
        "  video.write(cv2.imread(os.path.join(resize_path, image)))\n",
        "\n",
        "# deallocate memory\n",
        "cv2.destroyAllWindows()\n",
        "video.release()\n",
        "print(\"success\")"
      ],
      "metadata": {
        "colab": {
          "base_uri": "https://localhost:8080/"
        },
        "id": "vGnMQJoi8jMA",
        "outputId": "953fbad9-aee7-4823-c4ff-6451b54b9d5f"
      },
      "execution_count": null,
      "outputs": [
        {
          "output_type": "stream",
          "name": "stdout",
          "text": [
            "creating video\n",
            "video created\n",
            "success\n"
          ]
        }
      ]
    },
    {
      "cell_type": "code",
      "source": [
        "print(\"Removing old content in directory\")\n",
        "for f in os.listdir(resize_path):\n",
        "  os.remove(os.path.join(resize_path, f))"
      ],
      "metadata": {
        "id": "hB09CfsI-ZnA",
        "outputId": "1dc683f3-5f72-490d-f816-5ece29ae5b6d",
        "colab": {
          "base_uri": "https://localhost:8080/"
        }
      },
      "execution_count": null,
      "outputs": [
        {
          "output_type": "stream",
          "name": "stdout",
          "text": [
            "Removing old content in directory\n"
          ]
        }
      ]
    }
  ]
}